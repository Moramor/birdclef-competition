{
  "metadata": {
    "kernelspec": {
      "language": "python",
      "display_name": "Python 3",
      "name": "python3"
    },
    "language_info": {
      "name": "python",
      "version": "3.7.12",
      "mimetype": "text/x-python",
      "codemirror_mode": {
        "name": "ipython",
        "version": 3
      },
      "pygments_lexer": "ipython3",
      "nbconvert_exporter": "python",
      "file_extension": ".py"
    },
    "colab": {
      "provenance": []
    },
    "gpuClass": "standard"
  },
  "nbformat_minor": 0,
  "nbformat": 4,
  "cells": [
    {
      "cell_type": "markdown",
      "source": [
        "In this notebook, we'll use a pre-trained machine learning model to generate a submission to the [BirdClef2023 competition](https://www.kaggle.com/c/birdclef-2023).  The goal of the competition is to identify Eastern African bird species by sound."
      ],
      "metadata": {
        "id": "F_L8eJtE8Y4i"
      }
    },
    {
      "cell_type": "markdown",
      "source": [
        "## Step 1: Imports"
      ],
      "metadata": {
        "id": "NKnfyo4h8Y4l"
      }
    },
    {
      "cell_type": "code",
      "source": [
        "# Install All libraries\n",
        "!pip install -Uq fastcore fastai fastbook\n",
        "!pip install image_tabular\n",
        "!pip install kaggle\n",
        "! [ -e /content ] && pip install -Uqq pip fastai git+https://github.com/drscotthawley/fastproaudio.git"
      ],
      "metadata": {
        "colab": {
          "base_uri": "https://localhost:8080/"
        },
        "id": "mUbNjmsA2VRn",
        "outputId": "7879e6a1-808f-452c-af4d-a377745996a5"
      },
      "execution_count": 1,
      "outputs": [
        {
          "output_type": "stream",
          "name": "stdout",
          "text": [
            "\u001b[2K     \u001b[90m━━━━━━━━━━━━━━━━━━━━━━━━━━━━━━━━━━━━━━\u001b[0m \u001b[32m719.8/719.8 KB\u001b[0m \u001b[31m11.6 MB/s\u001b[0m eta \u001b[36m0:00:00\u001b[0m\n",
            "\u001b[2K     \u001b[90m━━━━━━━━━━━━━━━━━━━━━━━━━━━━━━━━━━━━━━\u001b[0m \u001b[32m469.0/469.0 KB\u001b[0m \u001b[31m19.0 MB/s\u001b[0m eta \u001b[36m0:00:00\u001b[0m\n",
            "\u001b[2K     \u001b[90m━━━━━━━━━━━━━━━━━━━━━━━━━━━━━━━━━━━━━━━━\u001b[0m \u001b[32m1.3/1.3 MB\u001b[0m \u001b[31m33.4 MB/s\u001b[0m eta \u001b[36m0:00:00\u001b[0m\n",
            "\u001b[2K     \u001b[90m━━━━━━━━━━━━━━━━━━━━━━━━━━━━━━━━━━━━━━━━\u001b[0m \u001b[32m6.8/6.8 MB\u001b[0m \u001b[31m12.6 MB/s\u001b[0m eta \u001b[36m0:00:00\u001b[0m\n",
            "\u001b[2K     \u001b[90m━━━━━━━━━━━━━━━━━━━━━━━━━━━━━━━━━━━━━━━\u001b[0m \u001b[32m132.9/132.9 KB\u001b[0m \u001b[31m5.1 MB/s\u001b[0m eta \u001b[36m0:00:00\u001b[0m\n",
            "\u001b[2K     \u001b[90m━━━━━━━━━━━━━━━━━━━━━━━━━━━━━━━━━━━━━━━━\u001b[0m \u001b[32m1.0/1.0 MB\u001b[0m \u001b[31m9.1 MB/s\u001b[0m eta \u001b[36m0:00:00\u001b[0m\n",
            "\u001b[2K     \u001b[90m━━━━━━━━━━━━━━━━━━━━━━━━━━━━━━━━━━━━━━━\u001b[0m \u001b[32m110.5/110.5 KB\u001b[0m \u001b[31m3.0 MB/s\u001b[0m eta \u001b[36m0:00:00\u001b[0m\n",
            "\u001b[2K     \u001b[90m━━━━━━━━━━━━━━━━━━━━━━━━━━━━━━━━━━━━━━\u001b[0m \u001b[32m212.2/212.2 KB\u001b[0m \u001b[31m11.1 MB/s\u001b[0m eta \u001b[36m0:00:00\u001b[0m\n",
            "\u001b[2K     \u001b[90m━━━━━━━━━━━━━━━━━━━━━━━━━━━━━━━━━━━━━━━\u001b[0m \u001b[32m199.8/199.8 KB\u001b[0m \u001b[31m3.2 MB/s\u001b[0m eta \u001b[36m0:00:00\u001b[0m\n",
            "\u001b[2K     \u001b[90m━━━━━━━━━━━━━━━━━━━━━━━━━━━━━━━━━━━━━━━━\u001b[0m \u001b[32m7.6/7.6 MB\u001b[0m \u001b[31m6.9 MB/s\u001b[0m eta \u001b[36m0:00:00\u001b[0m\n",
            "\u001b[2K     \u001b[90m━━━━━━━━━━━━━━━━━━━━━━━━━━━━━━━━━━━━━━━\u001b[0m \u001b[32m114.2/114.2 KB\u001b[0m \u001b[31m2.6 MB/s\u001b[0m eta \u001b[36m0:00:00\u001b[0m\n",
            "\u001b[2K     \u001b[90m━━━━━━━━━━━━━━━━━━━━━━━━━━━━━━━━━━━━━━\u001b[0m \u001b[32m158.8/158.8 KB\u001b[0m \u001b[31m13.9 MB/s\u001b[0m eta \u001b[36m0:00:00\u001b[0m\n",
            "\u001b[2K     \u001b[90m━━━━━━━━━━━━━━━━━━━━━━━━━━━━━━━━━━━━━━\u001b[0m \u001b[32m264.6/264.6 KB\u001b[0m \u001b[31m25.0 MB/s\u001b[0m eta \u001b[36m0:00:00\u001b[0m\n",
            "\u001b[2K     \u001b[90m━━━━━━━━━━━━━━━━━━━━━━━━━━━━━━━━━━━━━━━━\u001b[0m \u001b[32m1.6/1.6 MB\u001b[0m \u001b[31m71.3 MB/s\u001b[0m eta \u001b[36m0:00:00\u001b[0m\n",
            "\u001b[?25hLooking in indexes: https://pypi.org/simple, https://us-python.pkg.dev/colab-wheels/public/simple/\n",
            "Collecting image_tabular\n",
            "  Downloading image_tabular-0.0.6-py3-none-any.whl (10 kB)\n",
            "Requirement already satisfied: fastai in /usr/local/lib/python3.9/dist-packages (from image_tabular) (2.7.11)\n",
            "Requirement already satisfied: torchvision in /usr/local/lib/python3.9/dist-packages (from image_tabular) (0.14.1+cu116)\n",
            "Requirement already satisfied: torch in /usr/local/lib/python3.9/dist-packages (from image_tabular) (1.13.1+cu116)\n",
            "Requirement already satisfied: scikit-learn in /usr/local/lib/python3.9/dist-packages (from image_tabular) (1.2.2)\n",
            "Requirement already satisfied: fastcore<1.6,>=1.4.5 in /usr/local/lib/python3.9/dist-packages (from fastai->image_tabular) (1.5.28)\n",
            "Requirement already satisfied: pyyaml in /usr/local/lib/python3.9/dist-packages (from fastai->image_tabular) (6.0)\n",
            "Requirement already satisfied: fastprogress>=0.2.4 in /usr/local/lib/python3.9/dist-packages (from fastai->image_tabular) (1.0.3)\n",
            "Requirement already satisfied: pandas in /usr/local/lib/python3.9/dist-packages (from fastai->image_tabular) (1.4.4)\n",
            "Requirement already satisfied: requests in /usr/local/lib/python3.9/dist-packages (from fastai->image_tabular) (2.27.1)\n",
            "Requirement already satisfied: spacy<4 in /usr/local/lib/python3.9/dist-packages (from fastai->image_tabular) (3.5.1)\n",
            "Requirement already satisfied: packaging in /usr/local/lib/python3.9/dist-packages (from fastai->image_tabular) (23.0)\n",
            "Requirement already satisfied: fastdownload<2,>=0.0.5 in /usr/local/lib/python3.9/dist-packages (from fastai->image_tabular) (0.0.7)\n",
            "Requirement already satisfied: matplotlib in /usr/local/lib/python3.9/dist-packages (from fastai->image_tabular) (3.7.1)\n",
            "Requirement already satisfied: pillow>6.0.0 in /usr/local/lib/python3.9/dist-packages (from fastai->image_tabular) (8.4.0)\n",
            "Requirement already satisfied: scipy in /usr/local/lib/python3.9/dist-packages (from fastai->image_tabular) (1.10.1)\n",
            "Requirement already satisfied: pip in /usr/local/lib/python3.9/dist-packages (from fastai->image_tabular) (22.0.4)\n",
            "Requirement already satisfied: typing-extensions in /usr/local/lib/python3.9/dist-packages (from torch->image_tabular) (4.5.0)\n",
            "Requirement already satisfied: numpy in /usr/local/lib/python3.9/dist-packages (from torchvision->image_tabular) (1.22.4)\n",
            "Requirement already satisfied: threadpoolctl>=2.0.0 in /usr/local/lib/python3.9/dist-packages (from scikit-learn->image_tabular) (3.1.0)\n",
            "Requirement already satisfied: joblib>=1.1.1 in /usr/local/lib/python3.9/dist-packages (from scikit-learn->image_tabular) (1.1.1)\n",
            "Requirement already satisfied: pydantic!=1.8,!=1.8.1,<1.11.0,>=1.7.4 in /usr/local/lib/python3.9/dist-packages (from spacy<4->fastai->image_tabular) (1.10.6)\n",
            "Requirement already satisfied: thinc<8.2.0,>=8.1.8 in /usr/local/lib/python3.9/dist-packages (from spacy<4->fastai->image_tabular) (8.1.9)\n",
            "Requirement already satisfied: pathy>=0.10.0 in /usr/local/lib/python3.9/dist-packages (from spacy<4->fastai->image_tabular) (0.10.1)\n",
            "Requirement already satisfied: spacy-loggers<2.0.0,>=1.0.0 in /usr/local/lib/python3.9/dist-packages (from spacy<4->fastai->image_tabular) (1.0.4)\n",
            "Requirement already satisfied: catalogue<2.1.0,>=2.0.6 in /usr/local/lib/python3.9/dist-packages (from spacy<4->fastai->image_tabular) (2.0.8)\n",
            "Requirement already satisfied: typer<0.8.0,>=0.3.0 in /usr/local/lib/python3.9/dist-packages (from spacy<4->fastai->image_tabular) (0.7.0)\n",
            "Requirement already satisfied: murmurhash<1.1.0,>=0.28.0 in /usr/local/lib/python3.9/dist-packages (from spacy<4->fastai->image_tabular) (1.0.9)\n",
            "Requirement already satisfied: smart-open<7.0.0,>=5.2.1 in /usr/local/lib/python3.9/dist-packages (from spacy<4->fastai->image_tabular) (6.3.0)\n",
            "Requirement already satisfied: preshed<3.1.0,>=3.0.2 in /usr/local/lib/python3.9/dist-packages (from spacy<4->fastai->image_tabular) (3.0.8)\n",
            "Requirement already satisfied: setuptools in /usr/local/lib/python3.9/dist-packages (from spacy<4->fastai->image_tabular) (63.4.3)\n",
            "Requirement already satisfied: tqdm<5.0.0,>=4.38.0 in /usr/local/lib/python3.9/dist-packages (from spacy<4->fastai->image_tabular) (4.65.0)\n",
            "Requirement already satisfied: wasabi<1.2.0,>=0.9.1 in /usr/local/lib/python3.9/dist-packages (from spacy<4->fastai->image_tabular) (1.1.1)\n",
            "Requirement already satisfied: jinja2 in /usr/local/lib/python3.9/dist-packages (from spacy<4->fastai->image_tabular) (3.1.2)\n",
            "Requirement already satisfied: srsly<3.0.0,>=2.4.3 in /usr/local/lib/python3.9/dist-packages (from spacy<4->fastai->image_tabular) (2.4.6)\n",
            "Requirement already satisfied: langcodes<4.0.0,>=3.2.0 in /usr/local/lib/python3.9/dist-packages (from spacy<4->fastai->image_tabular) (3.3.0)\n",
            "Requirement already satisfied: spacy-legacy<3.1.0,>=3.0.11 in /usr/local/lib/python3.9/dist-packages (from spacy<4->fastai->image_tabular) (3.0.12)\n",
            "Requirement already satisfied: cymem<2.1.0,>=2.0.2 in /usr/local/lib/python3.9/dist-packages (from spacy<4->fastai->image_tabular) (2.0.7)\n",
            "Requirement already satisfied: idna<4,>=2.5 in /usr/local/lib/python3.9/dist-packages (from requests->fastai->image_tabular) (3.4)\n",
            "Requirement already satisfied: charset-normalizer~=2.0.0 in /usr/local/lib/python3.9/dist-packages (from requests->fastai->image_tabular) (2.0.12)\n",
            "Requirement already satisfied: urllib3<1.27,>=1.21.1 in /usr/local/lib/python3.9/dist-packages (from requests->fastai->image_tabular) (1.26.15)\n",
            "Requirement already satisfied: certifi>=2017.4.17 in /usr/local/lib/python3.9/dist-packages (from requests->fastai->image_tabular) (2022.12.7)\n",
            "Requirement already satisfied: python-dateutil>=2.7 in /usr/local/lib/python3.9/dist-packages (from matplotlib->fastai->image_tabular) (2.8.2)\n",
            "Requirement already satisfied: importlib-resources>=3.2.0 in /usr/local/lib/python3.9/dist-packages (from matplotlib->fastai->image_tabular) (5.12.0)\n",
            "Requirement already satisfied: contourpy>=1.0.1 in /usr/local/lib/python3.9/dist-packages (from matplotlib->fastai->image_tabular) (1.0.7)\n",
            "Requirement already satisfied: pyparsing>=2.3.1 in /usr/local/lib/python3.9/dist-packages (from matplotlib->fastai->image_tabular) (3.0.9)\n",
            "Requirement already satisfied: kiwisolver>=1.0.1 in /usr/local/lib/python3.9/dist-packages (from matplotlib->fastai->image_tabular) (1.4.4)\n",
            "Requirement already satisfied: cycler>=0.10 in /usr/local/lib/python3.9/dist-packages (from matplotlib->fastai->image_tabular) (0.11.0)\n",
            "Requirement already satisfied: fonttools>=4.22.0 in /usr/local/lib/python3.9/dist-packages (from matplotlib->fastai->image_tabular) (4.39.0)\n",
            "Requirement already satisfied: pytz>=2020.1 in /usr/local/lib/python3.9/dist-packages (from pandas->fastai->image_tabular) (2022.7.1)\n",
            "Requirement already satisfied: zipp>=3.1.0 in /usr/local/lib/python3.9/dist-packages (from importlib-resources>=3.2.0->matplotlib->fastai->image_tabular) (3.15.0)\n",
            "Requirement already satisfied: six>=1.5 in /usr/local/lib/python3.9/dist-packages (from python-dateutil>=2.7->matplotlib->fastai->image_tabular) (1.15.0)\n",
            "Requirement already satisfied: blis<0.8.0,>=0.7.8 in /usr/local/lib/python3.9/dist-packages (from thinc<8.2.0,>=8.1.8->spacy<4->fastai->image_tabular) (0.7.9)\n",
            "Requirement already satisfied: confection<1.0.0,>=0.0.1 in /usr/local/lib/python3.9/dist-packages (from thinc<8.2.0,>=8.1.8->spacy<4->fastai->image_tabular) (0.0.4)\n",
            "Requirement already satisfied: click<9.0.0,>=7.1.1 in /usr/local/lib/python3.9/dist-packages (from typer<0.8.0,>=0.3.0->spacy<4->fastai->image_tabular) (8.1.3)\n",
            "Requirement already satisfied: MarkupSafe>=2.0 in /usr/local/lib/python3.9/dist-packages (from jinja2->spacy<4->fastai->image_tabular) (2.1.2)\n",
            "Installing collected packages: image_tabular\n",
            "Successfully installed image_tabular-0.0.6\n",
            "Looking in indexes: https://pypi.org/simple, https://us-python.pkg.dev/colab-wheels/public/simple/\n",
            "Requirement already satisfied: kaggle in /usr/local/lib/python3.9/dist-packages (1.5.13)\n",
            "Requirement already satisfied: requests in /usr/local/lib/python3.9/dist-packages (from kaggle) (2.27.1)\n",
            "Requirement already satisfied: certifi in /usr/local/lib/python3.9/dist-packages (from kaggle) (2022.12.7)\n",
            "Requirement already satisfied: python-dateutil in /usr/local/lib/python3.9/dist-packages (from kaggle) (2.8.2)\n",
            "Requirement already satisfied: python-slugify in /usr/local/lib/python3.9/dist-packages (from kaggle) (8.0.1)\n",
            "Requirement already satisfied: tqdm in /usr/local/lib/python3.9/dist-packages (from kaggle) (4.65.0)\n",
            "Requirement already satisfied: urllib3 in /usr/local/lib/python3.9/dist-packages (from kaggle) (1.26.15)\n",
            "Requirement already satisfied: six>=1.10 in /usr/local/lib/python3.9/dist-packages (from kaggle) (1.15.0)\n",
            "Requirement already satisfied: text-unidecode>=1.3 in /usr/local/lib/python3.9/dist-packages (from python-slugify->kaggle) (1.3)\n",
            "Requirement already satisfied: idna<4,>=2.5 in /usr/local/lib/python3.9/dist-packages (from requests->kaggle) (3.4)\n",
            "Requirement already satisfied: charset-normalizer~=2.0.0 in /usr/local/lib/python3.9/dist-packages (from requests->kaggle) (2.0.12)\n",
            "  Preparing metadata (setup.py) ... \u001b[?25l\u001b[?25hdone\n",
            "\u001b[2K     \u001b[90m━━━━━━━━━━━━━━━━━━━━━━━━━━━━━━━━━━━━━━━━\u001b[0m \u001b[32m2.1/2.1 MB\u001b[0m \u001b[31m43.6 MB/s\u001b[0m eta \u001b[36m0:00:00\u001b[0m\n",
            "\u001b[?25h  Installing build dependencies ... \u001b[?25l\u001b[?25hdone\n",
            "  Getting requirements to build wheel ... \u001b[?25l\u001b[?25hdone\n",
            "  Preparing metadata (pyproject.toml) ... \u001b[?25l\u001b[?25hdone\n",
            "  Building wheel for fastproaudio (setup.py) ... \u001b[?25l\u001b[?25hdone\n",
            "  Building wheel for pyzenodo3 (pyproject.toml) ... \u001b[?25l\u001b[?25hdone\n"
          ]
        }
      ]
    },
    {
      "cell_type": "code",
      "source": [
        "from google.colab import files, drive\n",
        "drive.mount(\"/content/gdrive\")\n",
        "# Switch do DeepLearning directory\n",
        "%cd /content/gdrive/MyDrive/DeepLearning"
      ],
      "metadata": {
        "colab": {
          "base_uri": "https://localhost:8080/"
        },
        "id": "qs18HS9VrWBM",
        "outputId": "2b4d84ea-a883-4156-915d-376622b43b06"
      },
      "execution_count": 2,
      "outputs": [
        {
          "output_type": "stream",
          "name": "stdout",
          "text": [
            "Mounted at /content/gdrive\n",
            "/content/gdrive/MyDrive/DeepLearning\n"
          ]
        }
      ]
    },
    {
      "cell_type": "code",
      "source": [
        "import pandas as pd\n",
        "import numpy as np\n",
        "import librosa\n",
        "import librosa.display\n",
        "import glob\n",
        "import matplotlib.pyplot as plt\n",
        "from typing import List\n",
        "\n",
        "import csv\n",
        "import io\n",
        "\n",
        "import os\n",
        "\n",
        "from IPython.display import Audio\n",
        "\n",
        "import torchaudio\n",
        "import torch\n",
        "\n",
        "# To save spectrograms as png\n",
        "import skimage.io\n",
        "\n",
        "# fastproaudio\n",
        "from fastproaudio.core import *\n",
        "\n",
        "\n",
        "# Fastai\n",
        "import fastbook\n",
        "fastbook.setup_book()\n",
        "from fastbook import *\n",
        "from fastcore.transform import Transform\n",
        "from fastai.torch_core import TensorBase\n",
        "from fastai.data.core import TensorImageBase\n",
        "\n",
        "# Import all the vision library\n",
        "from fastai.vision.all import *\n"
      ],
      "metadata": {
        "_uuid": "8f2839f25d086af736a60e9eeb907d3b93b6e0e5",
        "_cell_guid": "b1076dfc-b9ad-4769-8c92-a6c4dae69d19",
        "execution": {
          "iopub.status.busy": "2023-03-08T12:57:13.943488Z",
          "iopub.execute_input": "2023-03-08T12:57:13.943877Z",
          "iopub.status.idle": "2023-03-08T12:57:21.491538Z",
          "shell.execute_reply.started": "2023-03-08T12:57:13.943840Z",
          "shell.execute_reply": "2023-03-08T12:57:21.490338Z"
        },
        "trusted": true,
        "id": "TFaIAYt28Y4l"
      },
      "execution_count": 3,
      "outputs": []
    },
    {
      "cell_type": "code",
      "source": [
        "# Setup kaggle API\n",
        "\n",
        "# 1. Read the kaggle API token to interact with your kaggle account\n",
        "# Folder containing kaggle.json for kaggle API authorization\n",
        "os.environ['KAGGLE_CONFIG_DIR'] = \"/content/gdrive/MyDrive/DeepLearning/\""
      ],
      "metadata": {
        "id": "TY8obv2Z_SIq"
      },
      "execution_count": 4,
      "outputs": []
    },
    {
      "cell_type": "code",
      "source": [
        "!ls\n",
        "# Pick a path to download the dataset to:\n",
        "comp = 'birdclef-2023'\n",
        "path = URLs.path(comp)\n",
        "path_train = Path(path/'train_audio')"
      ],
      "metadata": {
        "colab": {
          "base_uri": "https://localhost:8080/"
        },
        "id": "dw-SKLHgDXlG",
        "outputId": "d7fb0c61-c0a7-4ec8-d9ee-1476709a1387"
      },
      "execution_count": 5,
      "outputs": [
        {
          "output_type": "stream",
          "name": "stdout",
          "text": [
            "kaggle.json  path_spectrogram\n"
          ]
        }
      ]
    },
    {
      "cell_type": "code",
      "source": [
        "#And use the Kaggle API to download the dataset to that path, and extract it:\n",
        "Path.BASE_PATH = path\n",
        "\n",
        "from kaggle import api\n",
        "\n",
        "if not path.exists():\n",
        "    path.mkdir(parents=true)\n",
        "    api.competition_download_cli(comp, path=path)\n",
        "    shutil.unpack_archive(str(path/f'{comp}.zip'), str(path))\n",
        "\n",
        "path.ls(file_type='text')"
      ],
      "metadata": {
        "colab": {
          "base_uri": "https://localhost:8080/"
        },
        "id": "0LKQ1yI5Frje",
        "outputId": "59908614-5076-49dc-c442-bf9657b4951e"
      },
      "execution_count": 27,
      "outputs": [
        {
          "output_type": "stream",
          "name": "stderr",
          "text": [
            "2023-03-20 23:05:20,278 WARNING Retrying (Retry(total=2, connect=None, read=None, redirect=None, status=None)) after connection broken by 'ProtocolError('Connection aborted.', ConnectionResetError(104, 'Connection reset by peer'))': /api/v1/competitions/data/download-all/birdclef-2023\n",
            "WARNING:urllib3.connectionpool:Retrying (Retry(total=2, connect=None, read=None, redirect=None, status=None)) after connection broken by 'ProtocolError('Connection aborted.', ConnectionResetError(104, 'Connection reset by peer'))': /api/v1/competitions/data/download-all/birdclef-2023\n"
          ]
        },
        {
          "output_type": "stream",
          "name": "stdout",
          "text": [
            "Downloading birdclef-2023.zip to /root/.fastai/archive/birdclef-2023\n"
          ]
        },
        {
          "output_type": "stream",
          "name": "stderr",
          "text": [
            "100%|██████████| 4.91G/4.91G [00:55<00:00, 95.2MB/s]\n"
          ]
        },
        {
          "output_type": "stream",
          "name": "stdout",
          "text": [
            "\n"
          ]
        },
        {
          "output_type": "execute_result",
          "data": {
            "text/plain": [
              "(#3) [Path('eBird_Taxonomy_v2021.csv'),Path('sample_submission.csv'),Path('train_metadata.csv')]"
            ]
          },
          "metadata": {},
          "execution_count": 27
        }
      ]
    },
    {
      "cell_type": "markdown",
      "source": [
        "# Pre-generate Spectrograms and save them\n",
        "Generate spectrograms over 5-seconds splits of resampled audio files\n"
      ],
      "metadata": {
        "id": "Qeuv4RNzMZrl"
      }
    },
    {
      "cell_type": "code",
      "source": [
        "Path(path/'train_audio/gybfis1').ls()"
      ],
      "metadata": {
        "id": "HAX8Azirrqz1",
        "outputId": "4b3367fa-968a-4313-9052-b14cc11bce73",
        "colab": {
          "base_uri": "https://localhost:8080/"
        }
      },
      "execution_count": 7,
      "outputs": [
        {
          "output_type": "execute_result",
          "data": {
            "text/plain": [
              "(#10) [Path('train_audio/gybfis1/XC282058.ogg'),Path('train_audio/gybfis1/XC267528.ogg'),Path('train_audio/gybfis1/XC131985.ogg'),Path('train_audio/gybfis1/XC618866.ogg'),Path('train_audio/gybfis1/XC282065.ogg'),Path('train_audio/gybfis1/XC267529.ogg'),Path('train_audio/gybfis1/XC127885.ogg'),Path('train_audio/gybfis1/XC397814.ogg'),Path('train_audio/gybfis1/XC282061.ogg'),Path('train_audio/gybfis1/XC396326.ogg')]"
            ]
          },
          "metadata": {},
          "execution_count": 7
        }
      ]
    },
    {
      "cell_type": "markdown",
      "source": [
        "Get the paths to all audio files"
      ],
      "metadata": {
        "id": "ZjWNPLaZwCcc"
      }
    },
    {
      "cell_type": "code",
      "source": [
        "def get_audio_files(path):\n",
        "    return get_files(path, extensions='.ogg', recurse=True)\n",
        "\n",
        "audio_files = get_audio_files(path)\n",
        "fn = audio_files[0]; fn"
      ],
      "metadata": {
        "id": "J1xhiNzrvZHA",
        "outputId": "8ed290db-8aed-427c-a273-249fc1182e45",
        "colab": {
          "base_uri": "https://localhost:8080/"
        }
      },
      "execution_count": 8,
      "outputs": [
        {
          "output_type": "execute_result",
          "data": {
            "text/plain": [
              "Path('train_audio/gybfis1/XC282058.ogg')"
            ]
          },
          "metadata": {},
          "execution_count": 8
        }
      ]
    },
    {
      "cell_type": "code",
      "source": [
        "def read_signal(audio_file_path: Path,\n",
        "                  audio_split_length: float=5.,\n",
        "                  audio_hop_length: float=1.,\n",
        "                  sample_rate: int=32000):\n",
        "    # Load audio sample from file path\n",
        "    sig, rate = librosa.load(audio_file_path)    \n",
        "    # Resample to match desired sample rate\n",
        "    resampled_sig = librosa.resample(sig, orig_sr=rate, target_sr=sample_rate)\n",
        "    return resampled_sig.astype(float, copy=False)\n",
        "\n",
        "def split_signal(resampled_sig: np.ndarray,\n",
        "                  audio_split_length: float=5.,\n",
        "                  audio_hop_length: float=1.,\n",
        "                  sample_rate: int=32000):\n",
        "    \"Split signal into chunks of desired length. Returns a list a those chunks\" \n",
        "\n",
        "    len_chunk = int(audio_split_length*sample_rate)\n",
        "    len_sig = len(resampled_sig)\n",
        "    \n",
        "    # If length of signal inferior to desired length, pad it with zeros\n",
        "    if (len_sig <= len_chunk):\n",
        "      res = np.zeros(len_chunk)\n",
        "      res[:len_sig] = resampled_sig\n",
        "      return [res]\n",
        "    else:\n",
        "      res = []\n",
        "      # Create chunks. To avoid padding, the last chunk will start audio_split_length seconds before the signal end.\n",
        "      start = 0\n",
        "      hop = int(sample_rate*audio_hop_length)\n",
        "\n",
        "      while(start+len_chunk <= len_sig):\n",
        "        res.append(resampled_sig[start:start+len_chunk])\n",
        "        start+=hop\n",
        "\n",
        "    # Append last chunk\n",
        "      res.append(resampled_sig[len_sig-len_chunk:])\n",
        "\n",
        "      return res\n"
      ],
      "metadata": {
        "id": "orw4gJALzeSq"
      },
      "execution_count": 28,
      "outputs": []
    },
    {
      "cell_type": "code",
      "source": [
        "def scale_minmax(X, min=0.0, max=1.0):\n",
        "    X_std = (X - X.min()) / (X.max() - X.min())\n",
        "    X_scaled = X_std * (max - min) + min\n",
        "    return X_scaled\n",
        "\n",
        "def create_spectrogram(path_save, signal:np.ndarray, sample_rate:int=32000):\n",
        "    spec = librosa.feature.melspectrogram(y=signal, sr=sample_rate)#, n_fft=int(duration*sample_rate))\n",
        "    # save file\n",
        "    np.save(path_save, spec)  \n"
      ],
      "metadata": {
        "id": "QW7ybZV75XTf"
      },
      "execution_count": 29,
      "outputs": []
    },
    {
      "cell_type": "code",
      "source": [
        "def save_chunk_as_file(chunk, audio_file_path: Path, sample_rate:int=32000, extension:str='.npy', idx_chunk=0, split=False):\n",
        "    if split==True:\n",
        "      path_save = Path(audio_file_path.parent/(audio_file_path.stem+f\"-{idx_chunk}\"+extension))\n",
        "    else:\n",
        "      path_save = Path(audio_file_path.parent/(audio_file_path.stem+extension))\n",
        "\n",
        "    if not path_save.exists():\n",
        "      create_spectrogram(path_save, chunk, sample_rate)\n",
        "      print(path_save)\n",
        "    else:\n",
        "      print(path_save)\n",
        "      print(\"LAST ALREADY EXISTED ----------------\")\n",
        "    return idx_chunk + 1\n",
        "\n",
        "def create_spectrograms(audio_file_path: Path,\n",
        "                        split=False,\n",
        "                        audio_split_length: float=5.,\n",
        "                        audio_hop_length: float=1.,\n",
        "                        sample_rate: int=32000,\n",
        "                        ax=None,\n",
        "                        vmin=-70,\n",
        "                        vmax=0,\n",
        "                        rate=32000,\n",
        "                        ctx=None):\n",
        "    \"Create all spectrograms for one audio file and save them in the same folder as audio files\"\n",
        "    # Split signal in to desired length chunks\n",
        "    signal = read_signal(audio_file_path, audio_split_length=audio_split_length, audio_hop_length=audio_hop_length, sample_rate=sample_rate) \n",
        "    if split==True:\n",
        "      chunks = split_signal(audio_file_path, audio_split_length=audio_split_length, audio_hop_length=audio_hop_length, sample_rate=sample_rate) \n",
        "    else:\n",
        "      chunks=[signal]\n",
        "\n",
        "    idx_chunk=0\n",
        "    for i, chunk in enumerate(chunks):\n",
        "        save_chunk_as_file(chunk, audio_file_path, idx_chunk=i)"
      ],
      "metadata": {
        "id": "OmIf5qROwA0f"
      },
      "execution_count": 30,
      "outputs": []
    },
    {
      "cell_type": "markdown",
      "source": [
        "### Check the pipeline for saving spectrograms and reading them. Ensure data is not corrupted"
      ],
      "metadata": {
        "id": "5ygGuX8YDrvX"
      }
    },
    {
      "cell_type": "code",
      "source": [
        "# Create chunks from audio file\n",
        "fn = audio_files[0]\n",
        "chunks = split_signal(fn)\n",
        "\n",
        "path_save = Path(fn.parent/(fn.stem+\"-0\"+'.npy'))\n",
        "print(path_save)\n",
        "\n",
        "# Create spec\n",
        "spec = librosa.feature.melspectrogram(y=chunks[0], sr=32000)#, n_fft=int(duration*sample_rate))\n",
        "# save file\n",
        "print(spec)\n",
        "print(spec.shape)\n",
        "print(spec.dtype)\n",
        "\n",
        "np.save(path_save, spec) \n",
        "!ls /root/.fastai/archive/birdclef-2023/train_audio/gybfis1/\n",
        "\n",
        "# read file\n",
        "spectro = np.load(path_save)\n",
        "print(spectro)\n",
        "print(spectro.shape)\n",
        "\n",
        "spectro.dtype"
      ],
      "metadata": {
        "id": "Y0Hi5oZhD-vl",
        "outputId": "deadb309-fad3-4a06-c392-d0ca91ad852a",
        "colab": {
          "base_uri": "https://localhost:8080/"
        }
      },
      "execution_count": 12,
      "outputs": [
        {
          "output_type": "stream",
          "name": "stdout",
          "text": [
            "/root/.fastai/archive/birdclef-2023/train_audio/gybfis1/XC282058-0.npy\n",
            "[[5.26338831e-12 9.48653823e-05 1.77240310e-02 ... 1.34713730e-03 1.59315902e-03 1.42051508e-03]\n",
            " [5.95330532e-12 5.76004130e-05 2.82235568e-03 ... 3.65783594e-04 4.41506476e-04 7.84810580e-04]\n",
            " [7.14226108e-12 2.38947270e-05 4.75837931e-04 ... 3.01775090e-05 1.06597800e-04 2.55165563e-04]\n",
            " ...\n",
            " [1.25257080e-13 3.10485252e-14 3.80861205e-17 ... 1.07771894e-16 1.53774408e-09 5.18162522e-08]\n",
            " [1.18850564e-13 2.94689315e-14 3.26061576e-17 ... 9.07030632e-17 1.53097645e-09 5.16003084e-08]\n",
            " [1.15525854e-13 2.86640607e-14 3.47877808e-17 ... 5.28268665e-16 1.52656727e-09 5.14585302e-08]]\n",
            "(128, 313)\n",
            "float64\n",
            "XC127885.ogg  XC267529.ogg    XC282061.ogg  XC397814.ogg\n",
            "XC131985.ogg  XC282058-0.npy  XC282065.ogg  XC618866.ogg\n",
            "XC267528.ogg  XC282058.ogg    XC396326.ogg\n",
            "[[5.26338831e-12 9.48653823e-05 1.77240310e-02 ... 1.34713730e-03 1.59315902e-03 1.42051508e-03]\n",
            " [5.95330532e-12 5.76004130e-05 2.82235568e-03 ... 3.65783594e-04 4.41506476e-04 7.84810580e-04]\n",
            " [7.14226108e-12 2.38947270e-05 4.75837931e-04 ... 3.01775090e-05 1.06597800e-04 2.55165563e-04]\n",
            " ...\n",
            " [1.25257080e-13 3.10485252e-14 3.80861205e-17 ... 1.07771894e-16 1.53774408e-09 5.18162522e-08]\n",
            " [1.18850564e-13 2.94689315e-14 3.26061576e-17 ... 9.07030632e-17 1.53097645e-09 5.16003084e-08]\n",
            " [1.15525854e-13 2.86640607e-14 3.47877808e-17 ... 5.28268665e-16 1.52656727e-09 5.14585302e-08]]\n",
            "(128, 313)\n"
          ]
        },
        {
          "output_type": "execute_result",
          "data": {
            "text/plain": [
              "dtype('float64')"
            ]
          },
          "metadata": {},
          "execution_count": 12
        }
      ]
    },
    {
      "cell_type": "markdown",
      "source": [
        "## Call the methods and save spectrograms as .npy files"
      ],
      "metadata": {
        "id": "oSnX2sQAAPCi"
      }
    },
    {
      "cell_type": "code",
      "source": [
        "len(audio_files) "
      ],
      "metadata": {
        "id": "9nPeaKexEWg4",
        "outputId": "daf2391e-1d54-4ea6-90c0-aa894d020364",
        "colab": {
          "base_uri": "https://localhost:8080/"
        }
      },
      "execution_count": 31,
      "outputs": [
        {
          "output_type": "execute_result",
          "data": {
            "text/plain": [
              "16942"
            ]
          },
          "metadata": {},
          "execution_count": 31
        }
      ]
    },
    {
      "cell_type": "code",
      "source": [],
      "metadata": {
        "id": "G-i0QCxDQnE3",
        "outputId": "98ebee7a-5c64-42dc-92e8-dbe91f29b57b",
        "colab": {
          "base_uri": "https://localhost:8080/"
        }
      },
      "execution_count": 26,
      "outputs": [
        {
          "output_type": "stream",
          "name": "stdout",
          "text": [
            "ls: cannot access '/root/.fastai/archive/birdclef-2023/': No such file or directory\n"
          ]
        }
      ]
    },
    {
      "cell_type": "code",
      "source": [
        "for i, audio_file in enumerate(audio_files):\n",
        "  create_spectrograms(audio_file)\n",
        "  print(f\"\\nPROCESSED AUDIO FILES : {i} / {len(audio_files)}\\n\") # Output progress"
      ],
      "metadata": {
        "colab": {
          "base_uri": "https://localhost:8080/",
          "height": 1000
        },
        "id": "BIepNjHfb7fr",
        "outputId": "bd339356-c97f-42fc-b3d4-76958e7dcbf4"
      },
      "execution_count": 32,
      "outputs": [
        {
          "output_type": "stream",
          "name": "stdout",
          "text": [
            "/root/.fastai/archive/birdclef-2023/train_audio/gybfis1/XC282058.npy\n",
            "\n",
            "PROCESSED AUDIO FILES : 0 / 16942\n",
            "\n",
            "/root/.fastai/archive/birdclef-2023/train_audio/gybfis1/XC267528.npy\n",
            "\n",
            "PROCESSED AUDIO FILES : 1 / 16942\n",
            "\n",
            "/root/.fastai/archive/birdclef-2023/train_audio/gybfis1/XC131985.npy\n",
            "\n",
            "PROCESSED AUDIO FILES : 2 / 16942\n",
            "\n",
            "/root/.fastai/archive/birdclef-2023/train_audio/gybfis1/XC618866.npy\n",
            "\n",
            "PROCESSED AUDIO FILES : 3 / 16942\n",
            "\n",
            "/root/.fastai/archive/birdclef-2023/train_audio/gybfis1/XC282065.npy\n",
            "\n",
            "PROCESSED AUDIO FILES : 4 / 16942\n",
            "\n",
            "/root/.fastai/archive/birdclef-2023/train_audio/gybfis1/XC267529.npy\n",
            "\n",
            "PROCESSED AUDIO FILES : 5 / 16942\n",
            "\n",
            "/root/.fastai/archive/birdclef-2023/train_audio/gybfis1/XC127885.npy\n",
            "\n",
            "PROCESSED AUDIO FILES : 6 / 16942\n",
            "\n",
            "/root/.fastai/archive/birdclef-2023/train_audio/gybfis1/XC397814.npy\n",
            "\n",
            "PROCESSED AUDIO FILES : 7 / 16942\n",
            "\n",
            "/root/.fastai/archive/birdclef-2023/train_audio/gybfis1/XC282061.npy\n",
            "\n",
            "PROCESSED AUDIO FILES : 8 / 16942\n",
            "\n",
            "/root/.fastai/archive/birdclef-2023/train_audio/gybfis1/XC396326.npy\n",
            "\n",
            "PROCESSED AUDIO FILES : 9 / 16942\n",
            "\n",
            "/root/.fastai/archive/birdclef-2023/train_audio/raybar1/XC583173.npy\n",
            "\n",
            "PROCESSED AUDIO FILES : 10 / 16942\n",
            "\n",
            "/root/.fastai/archive/birdclef-2023/train_audio/raybar1/XC526073.npy\n",
            "\n",
            "PROCESSED AUDIO FILES : 11 / 16942\n",
            "\n",
            "/root/.fastai/archive/birdclef-2023/train_audio/raybar1/XC244604.npy\n",
            "\n",
            "PROCESSED AUDIO FILES : 12 / 16942\n",
            "\n",
            "/root/.fastai/archive/birdclef-2023/train_audio/raybar1/XC654471.npy\n",
            "\n",
            "PROCESSED AUDIO FILES : 13 / 16942\n",
            "\n",
            "/root/.fastai/archive/birdclef-2023/train_audio/raybar1/XC583174.npy\n",
            "\n",
            "PROCESSED AUDIO FILES : 14 / 16942\n",
            "\n",
            "/root/.fastai/archive/birdclef-2023/train_audio/raybar1/XC583172.npy\n",
            "\n",
            "PROCESSED AUDIO FILES : 15 / 16942\n",
            "\n",
            "/root/.fastai/archive/birdclef-2023/train_audio/raybar1/XC613486.npy\n",
            "\n",
            "PROCESSED AUDIO FILES : 16 / 16942\n",
            "\n",
            "/root/.fastai/archive/birdclef-2023/train_audio/raybar1/XC391653.npy\n",
            "\n",
            "PROCESSED AUDIO FILES : 17 / 16942\n",
            "\n",
            "/root/.fastai/archive/birdclef-2023/train_audio/raybar1/XC699730.npy\n",
            "\n",
            "PROCESSED AUDIO FILES : 18 / 16942\n",
            "\n",
            "/root/.fastai/archive/birdclef-2023/train_audio/raybar1/XC396431.npy\n",
            "\n",
            "PROCESSED AUDIO FILES : 19 / 16942\n",
            "\n",
            "/root/.fastai/archive/birdclef-2023/train_audio/raybar1/XC728962.npy\n",
            "\n",
            "PROCESSED AUDIO FILES : 20 / 16942\n",
            "\n",
            "/root/.fastai/archive/birdclef-2023/train_audio/raybar1/XC439397.npy\n",
            "\n",
            "PROCESSED AUDIO FILES : 21 / 16942\n",
            "\n",
            "/root/.fastai/archive/birdclef-2023/train_audio/raybar1/XC244603.npy\n",
            "\n",
            "PROCESSED AUDIO FILES : 22 / 16942\n",
            "\n",
            "/root/.fastai/archive/birdclef-2023/train_audio/raybar1/XC424160.npy\n",
            "\n",
            "PROCESSED AUDIO FILES : 23 / 16942\n",
            "\n",
            "/root/.fastai/archive/birdclef-2023/train_audio/raybar1/XC583175.npy\n",
            "\n",
            "PROCESSED AUDIO FILES : 24 / 16942\n",
            "\n",
            "/root/.fastai/archive/birdclef-2023/train_audio/raybar1/XC425710.npy\n",
            "\n",
            "PROCESSED AUDIO FILES : 25 / 16942\n",
            "\n",
            "/root/.fastai/archive/birdclef-2023/train_audio/raybar1/XC526071.npy\n",
            "\n",
            "PROCESSED AUDIO FILES : 26 / 16942\n",
            "\n",
            "/root/.fastai/archive/birdclef-2023/train_audio/abethr1/XC432639.npy\n",
            "\n",
            "PROCESSED AUDIO FILES : 27 / 16942\n",
            "\n",
            "/root/.fastai/archive/birdclef-2023/train_audio/abethr1/XC467121.npy\n",
            "\n",
            "PROCESSED AUDIO FILES : 28 / 16942\n",
            "\n",
            "/root/.fastai/archive/birdclef-2023/train_audio/abethr1/XC585802.npy\n",
            "\n",
            "PROCESSED AUDIO FILES : 29 / 16942\n",
            "\n",
            "/root/.fastai/archive/birdclef-2023/train_audio/abethr1/XC363504.npy\n",
            "\n",
            "PROCESSED AUDIO FILES : 30 / 16942\n",
            "\n",
            "/root/.fastai/archive/birdclef-2023/train_audio/abethr1/XC379322.npy\n",
            "\n",
            "PROCESSED AUDIO FILES : 31 / 16942\n",
            "\n",
            "/root/.fastai/archive/birdclef-2023/train_audio/abethr1/XC363502.npy\n",
            "\n",
            "PROCESSED AUDIO FILES : 32 / 16942\n",
            "\n",
            "/root/.fastai/archive/birdclef-2023/train_audio/abethr1/XC128013.npy\n",
            "\n",
            "PROCESSED AUDIO FILES : 33 / 16942\n",
            "\n",
            "/root/.fastai/archive/birdclef-2023/train_audio/abethr1/XC363503.npy\n",
            "\n",
            "PROCESSED AUDIO FILES : 34 / 16942\n",
            "\n",
            "/root/.fastai/archive/birdclef-2023/train_audio/abethr1/XC616997.npy\n",
            "\n",
            "PROCESSED AUDIO FILES : 35 / 16942\n",
            "\n",
            "/root/.fastai/archive/birdclef-2023/train_audio/abethr1/XC467122.npy\n",
            "\n",
            "PROCESSED AUDIO FILES : 36 / 16942\n",
            "\n",
            "/root/.fastai/archive/birdclef-2023/train_audio/abethr1/XC639039.npy\n",
            "\n",
            "PROCESSED AUDIO FILES : 37 / 16942\n",
            "\n",
            "/root/.fastai/archive/birdclef-2023/train_audio/abethr1/XC531557.npy\n",
            "\n",
            "PROCESSED AUDIO FILES : 38 / 16942\n",
            "\n",
            "/root/.fastai/archive/birdclef-2023/train_audio/abethr1/XC363501.npy\n",
            "\n",
            "PROCESSED AUDIO FILES : 39 / 16942\n",
            "\n",
            "/root/.fastai/archive/birdclef-2023/train_audio/abethr1/XC756300.npy\n",
            "\n",
            "PROCESSED AUDIO FILES : 40 / 16942\n",
            "\n",
            "/root/.fastai/archive/birdclef-2023/train_audio/abethr1/XC606253.npy\n",
            "\n",
            "PROCESSED AUDIO FILES : 41 / 16942\n",
            "\n",
            "/root/.fastai/archive/birdclef-2023/train_audio/rostur1/XC417117.npy\n",
            "\n",
            "PROCESSED AUDIO FILES : 42 / 16942\n",
            "\n",
            "/root/.fastai/archive/birdclef-2023/train_audio/rostur1/XC396133.npy\n",
            "\n",
            "PROCESSED AUDIO FILES : 43 / 16942\n",
            "\n",
            "/root/.fastai/archive/birdclef-2023/train_audio/rostur1/XC393727.npy\n",
            "\n",
            "PROCESSED AUDIO FILES : 44 / 16942\n",
            "\n",
            "/root/.fastai/archive/birdclef-2023/train_audio/rostur1/XC289531.npy\n",
            "\n",
            "PROCESSED AUDIO FILES : 45 / 16942\n",
            "\n",
            "/root/.fastai/archive/birdclef-2023/train_audio/rostur1/XC397201.npy\n",
            "\n",
            "PROCESSED AUDIO FILES : 46 / 16942\n",
            "\n",
            "/root/.fastai/archive/birdclef-2023/train_audio/rostur1/XC365419.npy\n",
            "\n",
            "PROCESSED AUDIO FILES : 47 / 16942\n",
            "\n",
            "/root/.fastai/archive/birdclef-2023/train_audio/rostur1/XC282066.npy\n",
            "\n",
            "PROCESSED AUDIO FILES : 48 / 16942\n",
            "\n",
            "/root/.fastai/archive/birdclef-2023/train_audio/rostur1/XC537043.npy\n",
            "\n",
            "PROCESSED AUDIO FILES : 49 / 16942\n",
            "\n",
            "/root/.fastai/archive/birdclef-2023/train_audio/rostur1/XC289532.npy\n",
            "\n",
            "PROCESSED AUDIO FILES : 50 / 16942\n",
            "\n",
            "/root/.fastai/archive/birdclef-2023/train_audio/rostur1/XC401762.npy\n",
            "\n",
            "PROCESSED AUDIO FILES : 51 / 16942\n",
            "\n",
            "/root/.fastai/archive/birdclef-2023/train_audio/witswa1/XC295234.npy\n",
            "\n",
            "PROCESSED AUDIO FILES : 52 / 16942\n",
            "\n",
            "/root/.fastai/archive/birdclef-2023/train_audio/witswa1/XC295235.npy\n",
            "\n",
            "PROCESSED AUDIO FILES : 53 / 16942\n",
            "\n",
            "/root/.fastai/archive/birdclef-2023/train_audio/witswa1/XC426106.npy\n",
            "\n",
            "PROCESSED AUDIO FILES : 54 / 16942\n",
            "\n",
            "/root/.fastai/archive/birdclef-2023/train_audio/witswa1/XC337855.npy\n",
            "\n",
            "PROCESSED AUDIO FILES : 55 / 16942\n",
            "\n",
            "/root/.fastai/archive/birdclef-2023/train_audio/witswa1/XC295236.npy\n",
            "\n",
            "PROCESSED AUDIO FILES : 56 / 16942\n",
            "\n",
            "/root/.fastai/archive/birdclef-2023/train_audio/blakit1/XC546230.npy\n",
            "\n",
            "PROCESSED AUDIO FILES : 57 / 16942\n",
            "\n",
            "/root/.fastai/archive/birdclef-2023/train_audio/blakit1/XC304295.npy\n",
            "\n",
            "PROCESSED AUDIO FILES : 58 / 16942\n",
            "\n",
            "/root/.fastai/archive/birdclef-2023/train_audio/blakit1/XC740070.npy\n",
            "\n",
            "PROCESSED AUDIO FILES : 59 / 16942\n",
            "\n",
            "/root/.fastai/archive/birdclef-2023/train_audio/blakit1/XC463780.npy\n",
            "\n",
            "PROCESSED AUDIO FILES : 60 / 16942\n",
            "\n",
            "/root/.fastai/archive/birdclef-2023/train_audio/blakit1/XC120438.npy\n",
            "\n",
            "PROCESSED AUDIO FILES : 61 / 16942\n",
            "\n",
            "/root/.fastai/archive/birdclef-2023/train_audio/blakit1/XC660615.npy\n",
            "\n",
            "PROCESSED AUDIO FILES : 62 / 16942\n",
            "\n",
            "/root/.fastai/archive/birdclef-2023/train_audio/blakit1/XC320701.npy\n",
            "\n",
            "PROCESSED AUDIO FILES : 63 / 16942\n",
            "\n",
            "/root/.fastai/archive/birdclef-2023/train_audio/blakit1/XC480106.npy\n",
            "\n",
            "PROCESSED AUDIO FILES : 64 / 16942\n",
            "\n",
            "/root/.fastai/archive/birdclef-2023/train_audio/blakit1/XC442335.npy\n",
            "\n",
            "PROCESSED AUDIO FILES : 65 / 16942\n",
            "\n",
            "/root/.fastai/archive/birdclef-2023/train_audio/blakit1/XC495361.npy\n",
            "\n",
            "PROCESSED AUDIO FILES : 66 / 16942\n",
            "\n",
            "/root/.fastai/archive/birdclef-2023/train_audio/blakit1/XC422724.npy\n",
            "\n",
            "PROCESSED AUDIO FILES : 67 / 16942\n",
            "\n",
            "/root/.fastai/archive/birdclef-2023/train_audio/blakit1/XC341175.npy\n",
            "\n",
            "PROCESSED AUDIO FILES : 68 / 16942\n",
            "\n",
            "/root/.fastai/archive/birdclef-2023/train_audio/blakit1/XC192129.npy\n",
            "\n",
            "PROCESSED AUDIO FILES : 69 / 16942\n",
            "\n",
            "/root/.fastai/archive/birdclef-2023/train_audio/blakit1/XC465856.npy\n",
            "\n",
            "PROCESSED AUDIO FILES : 70 / 16942\n",
            "\n",
            "/root/.fastai/archive/birdclef-2023/train_audio/blakit1/XC645364.npy\n",
            "\n",
            "PROCESSED AUDIO FILES : 71 / 16942\n",
            "\n",
            "/root/.fastai/archive/birdclef-2023/train_audio/blakit1/XC418987.npy\n",
            "\n",
            "PROCESSED AUDIO FILES : 72 / 16942\n",
            "\n",
            "/root/.fastai/archive/birdclef-2023/train_audio/blakit1/XC511558.npy\n",
            "\n",
            "PROCESSED AUDIO FILES : 73 / 16942\n",
            "\n",
            "/root/.fastai/archive/birdclef-2023/train_audio/blakit1/XC139768.npy\n",
            "\n",
            "PROCESSED AUDIO FILES : 74 / 16942\n",
            "\n",
            "/root/.fastai/archive/birdclef-2023/train_audio/blakit1/XC471396.npy\n",
            "\n",
            "PROCESSED AUDIO FILES : 75 / 16942\n",
            "\n",
            "/root/.fastai/archive/birdclef-2023/train_audio/blakit1/XC410418.npy\n",
            "\n",
            "PROCESSED AUDIO FILES : 76 / 16942\n",
            "\n",
            "/root/.fastai/archive/birdclef-2023/train_audio/blakit1/XC330330.npy\n",
            "\n",
            "PROCESSED AUDIO FILES : 77 / 16942\n",
            "\n",
            "/root/.fastai/archive/birdclef-2023/train_audio/blakit1/XC422663.npy\n",
            "\n",
            "PROCESSED AUDIO FILES : 78 / 16942\n",
            "\n",
            "/root/.fastai/archive/birdclef-2023/train_audio/blakit1/XC660706.npy\n",
            "\n",
            "PROCESSED AUDIO FILES : 79 / 16942\n",
            "\n",
            "/root/.fastai/archive/birdclef-2023/train_audio/blakit1/XC511560.npy\n",
            "\n",
            "PROCESSED AUDIO FILES : 80 / 16942\n",
            "\n",
            "/root/.fastai/archive/birdclef-2023/train_audio/blakit1/XC507829.npy\n",
            "\n",
            "PROCESSED AUDIO FILES : 81 / 16942\n",
            "\n",
            "/root/.fastai/archive/birdclef-2023/train_audio/blakit1/XC311871.npy\n",
            "\n",
            "PROCESSED AUDIO FILES : 82 / 16942\n",
            "\n",
            "/root/.fastai/archive/birdclef-2023/train_audio/blakit1/XC163903.npy\n",
            "\n",
            "PROCESSED AUDIO FILES : 83 / 16942\n",
            "\n",
            "/root/.fastai/archive/birdclef-2023/train_audio/blakit1/XC637228.npy\n",
            "\n",
            "PROCESSED AUDIO FILES : 84 / 16942\n",
            "\n",
            "/root/.fastai/archive/birdclef-2023/train_audio/blakit1/XC372290.npy\n",
            "\n",
            "PROCESSED AUDIO FILES : 85 / 16942\n",
            "\n",
            "/root/.fastai/archive/birdclef-2023/train_audio/blakit1/XC296008.npy\n",
            "\n",
            "PROCESSED AUDIO FILES : 86 / 16942\n",
            "\n",
            "/root/.fastai/archive/birdclef-2023/train_audio/blakit1/XC190570.npy\n",
            "\n",
            "PROCESSED AUDIO FILES : 87 / 16942\n",
            "\n",
            "/root/.fastai/archive/birdclef-2023/train_audio/blakit1/XC408738.npy\n",
            "\n",
            "PROCESSED AUDIO FILES : 88 / 16942\n",
            "\n",
            "/root/.fastai/archive/birdclef-2023/train_audio/blakit1/XC268754.npy\n",
            "\n",
            "PROCESSED AUDIO FILES : 89 / 16942\n",
            "\n",
            "/root/.fastai/archive/birdclef-2023/train_audio/blakit1/XC543161.npy\n",
            "\n",
            "PROCESSED AUDIO FILES : 90 / 16942\n",
            "\n",
            "/root/.fastai/archive/birdclef-2023/train_audio/blakit1/XC660526.npy\n",
            "\n",
            "PROCESSED AUDIO FILES : 91 / 16942\n",
            "\n",
            "/root/.fastai/archive/birdclef-2023/train_audio/blakit1/XC628626.npy\n",
            "\n",
            "PROCESSED AUDIO FILES : 92 / 16942\n",
            "\n",
            "/root/.fastai/archive/birdclef-2023/train_audio/blakit1/XC191992.npy\n",
            "\n",
            "PROCESSED AUDIO FILES : 93 / 16942\n",
            "\n",
            "/root/.fastai/archive/birdclef-2023/train_audio/blakit1/XC464266.npy\n",
            "\n",
            "PROCESSED AUDIO FILES : 94 / 16942\n",
            "\n",
            "/root/.fastai/archive/birdclef-2023/train_audio/blakit1/XC269713.npy\n",
            "\n",
            "PROCESSED AUDIO FILES : 95 / 16942\n",
            "\n",
            "/root/.fastai/archive/birdclef-2023/train_audio/blakit1/XC144422.npy\n",
            "\n",
            "PROCESSED AUDIO FILES : 96 / 16942\n",
            "\n",
            "/root/.fastai/archive/birdclef-2023/train_audio/blakit1/XC381736.npy\n",
            "\n",
            "PROCESSED AUDIO FILES : 97 / 16942\n",
            "\n",
            "/root/.fastai/archive/birdclef-2023/train_audio/blakit1/XC467575.npy\n",
            "\n",
            "PROCESSED AUDIO FILES : 98 / 16942\n",
            "\n",
            "/root/.fastai/archive/birdclef-2023/train_audio/blakit1/XC465965.npy\n",
            "\n",
            "PROCESSED AUDIO FILES : 99 / 16942\n",
            "\n",
            "/root/.fastai/archive/birdclef-2023/train_audio/blakit1/XC463904.npy\n",
            "\n",
            "PROCESSED AUDIO FILES : 100 / 16942\n",
            "\n",
            "/root/.fastai/archive/birdclef-2023/train_audio/blakit1/XC132063.npy\n",
            "\n",
            "PROCESSED AUDIO FILES : 101 / 16942\n",
            "\n",
            "/root/.fastai/archive/birdclef-2023/train_audio/blakit1/XC511559.npy\n",
            "\n",
            "PROCESSED AUDIO FILES : 102 / 16942\n",
            "\n",
            "/root/.fastai/archive/birdclef-2023/train_audio/blakit1/XC653988.npy\n",
            "\n",
            "PROCESSED AUDIO FILES : 103 / 16942\n",
            "\n",
            "/root/.fastai/archive/birdclef-2023/train_audio/blakit1/XC511561.npy\n",
            "\n",
            "PROCESSED AUDIO FILES : 104 / 16942\n",
            "\n",
            "/root/.fastai/archive/birdclef-2023/train_audio/blakit1/XC740444.npy\n",
            "\n",
            "PROCESSED AUDIO FILES : 105 / 16942\n",
            "\n",
            "/root/.fastai/archive/birdclef-2023/train_audio/blakit1/XC757061.npy\n",
            "\n",
            "PROCESSED AUDIO FILES : 106 / 16942\n",
            "\n",
            "/root/.fastai/archive/birdclef-2023/train_audio/blakit1/XC378208.npy\n",
            "\n",
            "PROCESSED AUDIO FILES : 107 / 16942\n",
            "\n",
            "/root/.fastai/archive/birdclef-2023/train_audio/blakit1/XC478264.npy\n",
            "\n",
            "PROCESSED AUDIO FILES : 108 / 16942\n",
            "\n",
            "/root/.fastai/archive/birdclef-2023/train_audio/blakit1/XC132399.npy\n",
            "\n",
            "PROCESSED AUDIO FILES : 109 / 16942\n",
            "\n",
            "/root/.fastai/archive/birdclef-2023/train_audio/blakit1/XC190727.npy\n",
            "\n",
            "PROCESSED AUDIO FILES : 110 / 16942\n",
            "\n",
            "/root/.fastai/archive/birdclef-2023/train_audio/blakit1/XC341218.npy\n",
            "\n",
            "PROCESSED AUDIO FILES : 111 / 16942\n",
            "\n",
            "/root/.fastai/archive/birdclef-2023/train_audio/blakit1/XC480258.npy\n",
            "\n",
            "PROCESSED AUDIO FILES : 112 / 16942\n",
            "\n",
            "/root/.fastai/archive/birdclef-2023/train_audio/blakit1/XC493733.npy\n",
            "\n",
            "PROCESSED AUDIO FILES : 113 / 16942\n",
            "\n"
          ]
        },
        {
          "output_type": "error",
          "ename": "KeyboardInterrupt",
          "evalue": "ignored",
          "traceback": [
            "\u001b[0;31m---------------------------------------------------------------------------\u001b[0m",
            "\u001b[0;31mKeyboardInterrupt\u001b[0m                         Traceback (most recent call last)",
            "\u001b[0;32m<ipython-input-32-4ddbf05675e7>\u001b[0m in \u001b[0;36m<module>\u001b[0;34m\u001b[0m\n\u001b[1;32m      1\u001b[0m \u001b[0;32mfor\u001b[0m \u001b[0mi\u001b[0m\u001b[0;34m,\u001b[0m \u001b[0maudio_file\u001b[0m \u001b[0;32min\u001b[0m \u001b[0menumerate\u001b[0m\u001b[0;34m(\u001b[0m\u001b[0maudio_files\u001b[0m\u001b[0;34m)\u001b[0m\u001b[0;34m:\u001b[0m\u001b[0;34m\u001b[0m\u001b[0;34m\u001b[0m\u001b[0m\n\u001b[0;32m----> 2\u001b[0;31m   \u001b[0mcreate_spectrograms\u001b[0m\u001b[0;34m(\u001b[0m\u001b[0maudio_file\u001b[0m\u001b[0;34m)\u001b[0m\u001b[0;34m\u001b[0m\u001b[0;34m\u001b[0m\u001b[0m\n\u001b[0m\u001b[1;32m      3\u001b[0m   \u001b[0mprint\u001b[0m\u001b[0;34m(\u001b[0m\u001b[0;34mf\"\\nPROCESSED AUDIO FILES : {i} / {len(audio_files)}\\n\"\u001b[0m\u001b[0;34m)\u001b[0m \u001b[0;31m# Output progress\u001b[0m\u001b[0;34m\u001b[0m\u001b[0;34m\u001b[0m\u001b[0m\n",
            "\u001b[0;32m<ipython-input-30-95cfb0df55aa>\u001b[0m in \u001b[0;36mcreate_spectrograms\u001b[0;34m(audio_file_path, split, audio_split_length, audio_hop_length, sample_rate, ax, vmin, vmax, rate, ctx)\u001b[0m\n\u001b[1;32m     33\u001b[0m     \u001b[0midx_chunk\u001b[0m\u001b[0;34m=\u001b[0m\u001b[0;36m0\u001b[0m\u001b[0;34m\u001b[0m\u001b[0;34m\u001b[0m\u001b[0m\n\u001b[1;32m     34\u001b[0m     \u001b[0;32mfor\u001b[0m \u001b[0mi\u001b[0m\u001b[0;34m,\u001b[0m \u001b[0mchunk\u001b[0m \u001b[0;32min\u001b[0m \u001b[0menumerate\u001b[0m\u001b[0;34m(\u001b[0m\u001b[0mchunks\u001b[0m\u001b[0;34m)\u001b[0m\u001b[0;34m:\u001b[0m\u001b[0;34m\u001b[0m\u001b[0;34m\u001b[0m\u001b[0m\n\u001b[0;32m---> 35\u001b[0;31m         \u001b[0msave_chunk_as_file\u001b[0m\u001b[0;34m(\u001b[0m\u001b[0mchunk\u001b[0m\u001b[0;34m,\u001b[0m \u001b[0maudio_file_path\u001b[0m\u001b[0;34m,\u001b[0m \u001b[0midx_chunk\u001b[0m\u001b[0;34m=\u001b[0m\u001b[0mi\u001b[0m\u001b[0;34m)\u001b[0m\u001b[0;34m\u001b[0m\u001b[0;34m\u001b[0m\u001b[0m\n\u001b[0m",
            "\u001b[0;32m<ipython-input-30-95cfb0df55aa>\u001b[0m in \u001b[0;36msave_chunk_as_file\u001b[0;34m(chunk, audio_file_path, sample_rate, extension, idx_chunk, split)\u001b[0m\n\u001b[1;32m      6\u001b[0m \u001b[0;34m\u001b[0m\u001b[0m\n\u001b[1;32m      7\u001b[0m     \u001b[0;32mif\u001b[0m \u001b[0;32mnot\u001b[0m \u001b[0mpath_save\u001b[0m\u001b[0;34m.\u001b[0m\u001b[0mexists\u001b[0m\u001b[0;34m(\u001b[0m\u001b[0;34m)\u001b[0m\u001b[0;34m:\u001b[0m\u001b[0;34m\u001b[0m\u001b[0;34m\u001b[0m\u001b[0m\n\u001b[0;32m----> 8\u001b[0;31m       \u001b[0mcreate_spectrogram\u001b[0m\u001b[0;34m(\u001b[0m\u001b[0mpath_save\u001b[0m\u001b[0;34m,\u001b[0m \u001b[0mchunk\u001b[0m\u001b[0;34m,\u001b[0m \u001b[0msample_rate\u001b[0m\u001b[0;34m)\u001b[0m\u001b[0;34m\u001b[0m\u001b[0;34m\u001b[0m\u001b[0m\n\u001b[0m\u001b[1;32m      9\u001b[0m       \u001b[0mprint\u001b[0m\u001b[0;34m(\u001b[0m\u001b[0mpath_save\u001b[0m\u001b[0;34m)\u001b[0m\u001b[0;34m\u001b[0m\u001b[0;34m\u001b[0m\u001b[0m\n\u001b[1;32m     10\u001b[0m     \u001b[0;32melse\u001b[0m\u001b[0;34m:\u001b[0m\u001b[0;34m\u001b[0m\u001b[0;34m\u001b[0m\u001b[0m\n",
            "\u001b[0;32m<ipython-input-29-d5e4d2448c74>\u001b[0m in \u001b[0;36mcreate_spectrogram\u001b[0;34m(path_save, signal, sample_rate)\u001b[0m\n\u001b[1;32m      5\u001b[0m \u001b[0;34m\u001b[0m\u001b[0m\n\u001b[1;32m      6\u001b[0m \u001b[0;32mdef\u001b[0m \u001b[0mcreate_spectrogram\u001b[0m\u001b[0;34m(\u001b[0m\u001b[0mpath_save\u001b[0m\u001b[0;34m,\u001b[0m \u001b[0msignal\u001b[0m\u001b[0;34m:\u001b[0m\u001b[0mnp\u001b[0m\u001b[0;34m.\u001b[0m\u001b[0mndarray\u001b[0m\u001b[0;34m,\u001b[0m \u001b[0msample_rate\u001b[0m\u001b[0;34m:\u001b[0m\u001b[0mint\u001b[0m\u001b[0;34m=\u001b[0m\u001b[0;36m32000\u001b[0m\u001b[0;34m)\u001b[0m\u001b[0;34m:\u001b[0m\u001b[0;34m\u001b[0m\u001b[0;34m\u001b[0m\u001b[0m\n\u001b[0;32m----> 7\u001b[0;31m     \u001b[0mspec\u001b[0m \u001b[0;34m=\u001b[0m \u001b[0mlibrosa\u001b[0m\u001b[0;34m.\u001b[0m\u001b[0mfeature\u001b[0m\u001b[0;34m.\u001b[0m\u001b[0mmelspectrogram\u001b[0m\u001b[0;34m(\u001b[0m\u001b[0my\u001b[0m\u001b[0;34m=\u001b[0m\u001b[0msignal\u001b[0m\u001b[0;34m,\u001b[0m \u001b[0msr\u001b[0m\u001b[0;34m=\u001b[0m\u001b[0msample_rate\u001b[0m\u001b[0;34m)\u001b[0m\u001b[0;31m#, n_fft=int(duration*sample_rate))\u001b[0m\u001b[0;34m\u001b[0m\u001b[0;34m\u001b[0m\u001b[0m\n\u001b[0m\u001b[1;32m      8\u001b[0m     \u001b[0;31m# save file\u001b[0m\u001b[0;34m\u001b[0m\u001b[0;34m\u001b[0m\u001b[0m\n\u001b[1;32m      9\u001b[0m     \u001b[0mnp\u001b[0m\u001b[0;34m.\u001b[0m\u001b[0msave\u001b[0m\u001b[0;34m(\u001b[0m\u001b[0mpath_save\u001b[0m\u001b[0;34m,\u001b[0m \u001b[0mspec\u001b[0m\u001b[0;34m)\u001b[0m\u001b[0;34m\u001b[0m\u001b[0;34m\u001b[0m\u001b[0m\n",
            "\u001b[0;32m/usr/local/lib/python3.9/dist-packages/librosa/feature/spectral.py\u001b[0m in \u001b[0;36mmelspectrogram\u001b[0;34m(y, sr, S, n_fft, hop_length, win_length, window, center, pad_mode, power, **kwargs)\u001b[0m\n\u001b[1;32m   2142\u001b[0m     \"\"\"\n\u001b[1;32m   2143\u001b[0m \u001b[0;34m\u001b[0m\u001b[0m\n\u001b[0;32m-> 2144\u001b[0;31m     S, n_fft = _spectrogram(\n\u001b[0m\u001b[1;32m   2145\u001b[0m         \u001b[0my\u001b[0m\u001b[0;34m=\u001b[0m\u001b[0my\u001b[0m\u001b[0;34m,\u001b[0m\u001b[0;34m\u001b[0m\u001b[0;34m\u001b[0m\u001b[0m\n\u001b[1;32m   2146\u001b[0m         \u001b[0mS\u001b[0m\u001b[0;34m=\u001b[0m\u001b[0mS\u001b[0m\u001b[0;34m,\u001b[0m\u001b[0;34m\u001b[0m\u001b[0;34m\u001b[0m\u001b[0m\n",
            "\u001b[0;32m/usr/local/lib/python3.9/dist-packages/librosa/core/spectrum.py\u001b[0m in \u001b[0;36m_spectrogram\u001b[0;34m(y, S, n_fft, hop_length, power, win_length, window, center, pad_mode)\u001b[0m\n\u001b[1;32m   2835\u001b[0m             )\n\u001b[1;32m   2836\u001b[0m         S = (\n\u001b[0;32m-> 2837\u001b[0;31m             np.abs(\n\u001b[0m\u001b[1;32m   2838\u001b[0m                 stft(\n\u001b[1;32m   2839\u001b[0m                     \u001b[0my\u001b[0m\u001b[0;34m,\u001b[0m\u001b[0;34m\u001b[0m\u001b[0;34m\u001b[0m\u001b[0m\n",
            "\u001b[0;31mKeyboardInterrupt\u001b[0m: "
          ]
        }
      ]
    },
    {
      "cell_type": "code",
      "source": [
        "from IPython.lib.display import Audio\n",
        "import numpy as np\n",
        "\n",
        "framerate = 4410\n",
        "play_time_seconds = 3\n",
        "\n",
        "t = np.linspace(0, play_time_seconds, framerate*play_time_seconds)\n",
        "audio_data = np.sin(2*np.pi*300*t) + np.sin(2*np.pi*240*t)\n",
        "Audio(audio_data, rate=framerate, autoplay=True)"
      ],
      "metadata": {
        "id": "nEKTtboIApJe"
      },
      "execution_count": null,
      "outputs": []
    },
    {
      "cell_type": "code",
      "source": [],
      "metadata": {
        "id": "2d64veP3KG1j"
      },
      "execution_count": null,
      "outputs": []
    }
  ]
}